{
 "cells": [
  {
   "cell_type": "markdown",
   "metadata": {},
   "source": [
    "## Exercise 2: Use the `arcgis.gis` module\n",
    "\n",
    "In this exercise you will begin using the `arcgis.gis` module. The initial GIS object that gets created from this module is the entry point to all other tasks that will be accomplished using the ArcGIS API for Python.\n",
    "\n",
    "To complete the code for this exercise, use the knowledge you have from the presentation portion of this lesson along with the workbook notes and help documentation.\n",
    "\n",
    "* [Step 1: Using the GIS object](#Step-1:-Using-the-GIS-object)\n",
    "* [Step 2: Helper objects](#Step-2:-Helper-objects)\n",
    "* [Step 3: Rich IDE experience with Jupyter notebooks](#Step-3:-Rich-IDE-experience-with-Jupyter-notebooks)\n",
    "* [Step 4: Investigate the course group](#Step-4:-Investigate-the-course-group)\n",
    "* [Step 5: Embedded maps in Jupyter notebooks](#Step-5:-Embedded-maps-in-Jupyter-notebooks)"
   ]
  },
  {
   "cell_type": "markdown",
   "metadata": {},
   "source": [
    "**Exercise Time:** 20 minutes"
   ]
  },
  {
   "cell_type": "markdown",
   "metadata": {
    "collapsed": true
   },
   "source": [
    "### Step 1: Using the GIS object\n",
    "\n",
    "The `GIS` object in the `gis` module is the most important object when working with the ArcGIS API for Python. The GIS object represents the GIS that you are working with, be it ArcGIS Online or an instance of ArcGIS Enterprise. You use the GIS object to consume and publish GIS content and administrators may use it to manage GIS users, groups and datastores. This object becomes your entry point in your Python script when using the API."
   ]
  },
  {
   "cell_type": "markdown",
   "metadata": {},
   "source": [
    "<ul style=\"list-style-type:circle\">\n",
    "    <li>To use the GIS object, start by importing the <code>arcgis</code> module.</li>\n",
    "</ul>"
   ]
  },
  {
   "cell_type": "code",
   "execution_count": null,
   "metadata": {},
   "outputs": [],
   "source": [
    "import arcgis"
   ]
  },
  {
   "cell_type": "markdown",
   "metadata": {},
   "source": [
    "> ***Tip:*** Remember you can use `[Shift]+[Enter]` to run the cell."
   ]
  },
  {
   "cell_type": "markdown",
   "metadata": {},
   "source": [
    "You can create the GIS object while passing in no parameters and this will connect to ArcGIS online as an anonymous user. \n",
    "\n",
    "<ul style=\"list-style-type:circle\">\n",
    "    <li>Write the code to create a gis object and assign it to a variable named <code>gis</code>, using <code>arcgis.GIS()</code>.</li>\n",
    "</ul>"
   ]
  },
  {
   "cell_type": "code",
   "execution_count": null,
   "metadata": {},
   "outputs": [],
   "source": [
    "gis = arcgis.GIS()"
   ]
  },
  {
   "cell_type": "markdown",
   "metadata": {},
   "source": [
    "Alternatively, and more likely, you pass in the url and your login credentials. For your course the `url` is the main ArcGIS Online URL while the `username` and `password` were given to you by your instructor. \n",
    "\n",
    "<ul style=\"list-style-type:circle\">\n",
    "    <li>Create the gis object and pass in the URL, username, and password, assigning it to the <code>gis</code> variable .</li>\n",
    "</ul>"
   ]
  },
  {
   "cell_type": "code",
   "execution_count": null,
   "metadata": {},
   "outputs": [],
   "source": [
    "url = 'http://www.arcgis.com'\n",
    "username = '<your username>'\n",
    "password = '<your password>'\n",
    "gis = arcgis.GIS(url, username, password)"
   ]
  },
  {
   "cell_type": "markdown",
   "metadata": {},
   "source": [
    "If connecting to an ArcGIS Enterprise in your premises, your URL becomes `http://machinename.domain.com/webadapter`. Your GIS can support a [number of authentication schemes](http://server.arcgis.com/en/portal/latest/administer/windows/about-configuring-portal-authentication.htm), refer to [this section of the guide](https://developers.arcgis.com/python/guide/working-with-different-authentication-schemes/) to know how to **authenticate your scripts and notebooks** for various such schemes."
   ]
  },
  {
   "cell_type": "markdown",
   "metadata": {},
   "source": [
    "Adding a '?' mark after an object and querying it brings up help for that object in the notebook.\n",
    "\n",
    "<ul style=\"list-style-type:circle\">\n",
    "    <li>Type the name of your <code>gis</code> variable with a <code>?</code> after it and run the cell.</li>\n",
    "</ul>"
   ]
  },
  {
   "cell_type": "code",
   "execution_count": null,
   "metadata": {},
   "outputs": [],
   "source": [
    "gis?"
   ]
  },
  {
   "cell_type": "markdown",
   "metadata": {},
   "source": [
    "The notebook provides intellisense and code-completion. Typing a dot after an object and hitting tab brings up a drop-down with its properties and methods.\n",
    "\n",
    "![dropdown showing members of GIS class](http://esri.github.io/arcgis-python-api/notebooks/nbimages/01-dropdown.png)\n",
    "\n",
    "<ul style=\"list-style-type:circle\">\n",
    "    <li>Type the name of your <code>gis</code> variable with a dot after it and hit the tab key.</li>\n",
    "</ul>"
   ]
  },
  {
   "cell_type": "code",
   "execution_count": null,
   "metadata": {},
   "outputs": [],
   "source": [
    "gis."
   ]
  },
  {
   "cell_type": "markdown",
   "metadata": {},
   "source": [
    "### Step 2: Helper objects\n",
    "The `GIS` object provides helper objects to manage the GIS resources, i.e. the users, groups, content and datastores. These helper utilities are in the form of helper objects named: `users`, `groups`, `content` and `datastore` respectively. The helper utility for managing user roles named `roles` is available as a property on the helper object `users`.\n",
    "\n",
    "Each such helper object has similar patterns of usage: there are methods to `get()`, `search()` and `create()` the respective resources.\n",
    "\n",
    "The prescribed programming pattern is to not create the GIS resources (user, group, item, role, datastore) directly using their constructor, but to access them through their corresponding helper objects described above."
   ]
  },
  {
   "cell_type": "markdown",
   "metadata": {},
   "source": [
    "Thus, to access a user, you would use the `users` property of your `gis` object which gives you an instance of `UserManager` class. You would then call the `get()` method of the `UserManager` object and pass the user name of the user you are interested in. \n",
    "\n",
    "<ul style=\"list-style-type:circle\">\n",
    "    <li>Write the code to get the user object for your username and assign it to a variable named <code>user</code>.</li>\n",
    "</ul>"
   ]
  },
  {
   "cell_type": "code",
   "execution_count": null,
   "metadata": {},
   "outputs": [],
   "source": [
    "user = gis.users.get(username)"
   ]
  },
  {
   "cell_type": "markdown",
   "metadata": {},
   "source": [
    "### Step 3: Rich IDE experience with Jupyter notebooks\n",
    "The ArcGIS API for Python is integrated with Jupyter Notebook to make it easy to visualize and interact with GIS resources. For many objects, just typing the name of the variable and running it will provide a rich representation of the object. For example, \n",
    "\n",
    "<ul style=\"list-style-type:circle\">\n",
    "    <li>run the cell below to see what is in the <code>user</code> object.</li>\n",
    "</ul>"
   ]
  },
  {
   "cell_type": "code",
   "execution_count": null,
   "metadata": {},
   "outputs": [],
   "source": [
    "user"
   ]
  },
  {
   "cell_type": "markdown",
   "metadata": {},
   "source": [
    "The resources are implemented as Python dictionaries. You can query for the resource properties using the <b><code>resource['property']</code></b> notation. For example,\n",
    "\n",
    "<ul style=\"list-style-type:circle\">\n",
    "    <li>query the user dictionary to get the `firstName` of the user.</li>\n",
    "</ul>"
   ]
  },
  {
   "cell_type": "code",
   "execution_count": null,
   "metadata": {},
   "outputs": [],
   "source": [
    "user['firstName']"
   ]
  },
  {
   "cell_type": "markdown",
   "metadata": {},
   "source": [
    "The properties are also available as properties on the resource object, so you can use the dot notation to access them. \n",
    "\n",
    "<ul style=\"list-style-type:circle\">\n",
    "    <li>Get the <code>lastName</code> of the user using the dot notation.</li>\n",
    "</ul>"
   ]
  },
  {
   "cell_type": "code",
   "execution_count": null,
   "metadata": {},
   "outputs": [],
   "source": [
    "user.lastName"
   ]
  },
  {
   "cell_type": "markdown",
   "metadata": {},
   "source": [
    "The resources provide methods to `update()`, `delete()` and use the object. The remainder of topics in this module talk in detail about using the various helper objects and resource objects."
   ]
  },
  {
   "cell_type": "markdown",
   "metadata": {},
   "source": [
    "### Step 4: Investigate the course group\n",
    "\n",
    "The users in your class all belong to a group that was pre-created by the instructor. You can see who all the users are in the group. \n",
    "\n",
    "<ul style=\"list-style-type:circle\">\n",
    "    <li>If necessary, change the names of your group and the owner in the code below and run the cell to get the group.</li>\n",
    "</ul>"
   ]
  },
  {
   "cell_type": "code",
   "execution_count": null,
   "metadata": {},
   "outputs": [],
   "source": [
    "# ----------------------------------------------------------------------------------\n",
    "# Replace the owner name and the group name with those provided by your instructor.\n",
    "# ----------------------------------------------------------------------------------\n",
    "owner_name = 'olitraining'\n",
    "group_name = 'Training'\n",
    "groups = gis.groups.search('owner:{} title:{}'.format(owner_name, group_name))\n",
    "groups"
   ]
  },
  {
   "cell_type": "markdown",
   "metadata": {},
   "source": [
    "If no groups are returned then verify that the `owner_name` and `group_name` are correct otherwise the code below will not work!\n",
    "\n",
    "<ul style=\"list-style-type:circle\">\n",
    "    <li>Run the cell below.</li>\n",
    "</ul>"
   ]
  },
  {
   "cell_type": "code",
   "execution_count": null,
   "metadata": {},
   "outputs": [],
   "source": [
    "# ---------------------------------\n",
    "# Write out list of group members.\n",
    "# ---------------------------------\n",
    "if groups:\n",
    "    group = groups[0]\n",
    "    members = group.get_members()\n",
    "\n",
    "    # --------------------------------------------------\n",
    "    # Members is a dictionary with 3 types of accounts.\n",
    "    # --------------------------------------------------\n",
    "    for member_type, names in members.items():\n",
    "        if member_type == 'owner':\n",
    "            print('Group: {} Member type: {:6s} Name: {}'.format(group_name, member_type, names))\n",
    "        else:\n",
    "            for name in names:\n",
    "                print('Group: {} Member type: {:6s} Name: {}'.format(group_name, member_type, name))"
   ]
  },
  {
   "cell_type": "markdown",
   "metadata": {},
   "source": [
    "### Step 5: Embedded maps in Jupyter notebooks\n",
    "\n",
    "The `GIS` object includes a map widget that can be used to visualize the content of your GIS as well as see the results of your analysis. Let's bring up a map of your city. \n",
    "\n",
    "<ul style=\"list-style-type:circle\">\n",
    "    <li>Type in the name of your city in the code block below and run the cell.</li>\n",
    "</ul>"
   ]
  },
  {
   "cell_type": "code",
   "execution_count": null,
   "metadata": {},
   "outputs": [],
   "source": [
    "city = 'Vancouver'\n",
    "map1 = gis.map(city)\n",
    "map1"
   ]
  },
  {
   "cell_type": "markdown",
   "metadata": {},
   "source": [
    "You can search for content in your GIS. Let's search for data in the area of your city. We do that by calling `gis.content.search()` and for each web map or web layer that gets returned, we can display its rich representation within the notebook.\n",
    "\n",
    "<ul style=\"list-style-type:circle\">\n",
    "    <li>Pass in your <code>city</code> variable into the <code>search()</code> method of the <code>content</code> manager and assign the resulting list to a variable named <code>items</code>.</li>\n",
    "</ul>"
   ]
  },
  {
   "cell_type": "code",
   "execution_count": null,
   "metadata": {},
   "outputs": [],
   "source": [
    "items = gis.content.search(city)"
   ]
  },
  {
   "cell_type": "markdown",
   "metadata": {},
   "source": [
    "<ul style=\"list-style-type:circle\">\n",
    "    <li>Now run the code below to see the rich representation of the items in your list.</li>\n",
    "</ul>"
   ]
  },
  {
   "cell_type": "code",
   "execution_count": null,
   "metadata": {},
   "outputs": [],
   "source": [
    "from IPython.display import display\n",
    "\n",
    "for item in items:\n",
    "    display(item)"
   ]
  },
  {
   "cell_type": "markdown",
   "metadata": {},
   "source": [
    "The search looks for content within your organization by default. What if you want to search for public content on ArcGIS Online? What if you only want to return feature layers because you want to add one to your map? \n",
    "\n",
    "<ul style=\"list-style-type:circle\">\n",
    "    <li>Use the <a href=\"https://developers.arcgis.com/python/api-reference/arcgis.gis.toc.html?highlight=content%20get#arcgis.gis.ContentManager.search\">help</a> documentation to find a way to add two parameters to the <code>search()</code> function so that items that are public and of type <code>Feature layer</code> are searched.</li>\n",
    "    <br>\n",
    "    <li>Write your code below.</li>\n",
    "</ul>\n",
    "\n",
    "> ***Note:*** Instead of browsing the help documentation you can also use `gis.content.search?`."
   ]
  },
  {
   "cell_type": "code",
   "execution_count": null,
   "metadata": {
    "scrolled": true
   },
   "outputs": [],
   "source": [
    "items = gis.content.search(city, outside_org=True, item_type='Feature Layer')\n",
    "items"
   ]
  },
  {
   "cell_type": "markdown",
   "metadata": {},
   "source": [
    "<ul style=\"list-style-type:circle\">\n",
    "    <li>Now write a loop to display the rich representation of each item.</li>\n",
    "</ul>"
   ]
  },
  {
   "cell_type": "code",
   "execution_count": null,
   "metadata": {},
   "outputs": [],
   "source": [
    "for item in items:\n",
    "    display(item)"
   ]
  },
  {
   "cell_type": "markdown",
   "metadata": {},
   "source": [
    "We can then add the returned web layers to our map. To add a layer we call the `add_layer()` method and pass in the index position of the item we want returned in the items list.\n",
    "\n",
    "<ul style=\"list-style-type:circle\">\n",
    "    <li>Write the code to add one of the items into your map.</li>\n",
    "    <br>\n",
    "    <li>Type the name of your map variable to display the map.</li>\n",
    "</ul>"
   ]
  },
  {
   "cell_type": "code",
   "execution_count": null,
   "metadata": {},
   "outputs": [],
   "source": [
    "map1.add_layer(items[0])\n",
    "map1"
   ]
  },
  {
   "cell_type": "markdown",
   "metadata": {
    "collapsed": true
   },
   "source": [
    "The above cell updated the map widget. Furthermore, if you scroll to the top, you can notice in that map a new layer being rendered on the map. \n",
    "\n",
    "This is the end of the exercise."
   ]
  }
 ],
 "metadata": {
  "anaconda-cloud": {},
  "kernelspec": {
   "display_name": "Python 3",
   "language": "python",
   "name": "python3"
  },
  "language_info": {
   "codemirror_mode": {
    "name": "ipython",
    "version": 3
   },
   "file_extension": ".py",
   "mimetype": "text/x-python",
   "name": "python",
   "nbconvert_exporter": "python",
   "pygments_lexer": "ipython3",
   "version": "3.6.10"
  }
 },
 "nbformat": 4,
 "nbformat_minor": 1
}