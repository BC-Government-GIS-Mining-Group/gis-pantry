{
 "cells": [
  {
   "cell_type": "markdown",
   "metadata": {},
   "source": [
    "## Exercise 2: Use the `arcgis.gis` module\n",
    "\n",
    "In this exercise you will begin using the `arcgis.gis` module. The initial GIS object that gets created from this module is the entry point to all other tasks that will be accomplished using the ArcGIS API for Python.\n",
    "\n",
    "To complete the code for this exercise, use the knowledge you have from the presentation portion of this lesson along with the workbook notes and help documentation.\n",
    "\n",
    "* [Step 1: Using the GIS object](#Step-1:-Using-the-GIS-object)\n",
    "* [Step 2: Helper objects](#Step-2:-Helper-objects)\n",
    "* [Step 3: Rich IDE experience with Jupyter notebooks](#Step-3:-Rich-IDE-experience-with-Jupyter-notebooks)\n",
    "* [Step 4: Investigate the course group](#Step-4:-Investigate-the-course-group)\n",
    "* [Step 5: Embedded maps in Jupyter notebooks](#Step-5:-Embedded-maps-in-Jupyter-notebooks)"
   ]
  },
  {
   "cell_type": "markdown",
   "metadata": {},
   "source": [
    "**Exercise Time:** 20 minutes"
   ]
  },
  {
   "cell_type": "markdown",
   "metadata": {
    "collapsed": true
   },
   "source": [
    "### Step 1: Using the GIS object\n",
    "\n",
    "The `GIS` object in the `gis` module is the most important object when working with the ArcGIS API for Python. The GIS object represents the GIS that you are working with, be it ArcGIS Online or an instance of ArcGIS Enterprise. You use the GIS object to consume and publish GIS content and administrators may use it to manage GIS users, groups and datastores. This object becomes your entry point in your Python script when using the API."
   ]
  },
  {
   "cell_type": "markdown",
   "metadata": {},
   "source": [
    "<ul style=\"list-style-type:circle\">\n",
    "    <li>To use the GIS object, start by importing the <code>arcgis</code> module.</li>\n",
    "</ul>"
   ]
  },
  {
   "cell_type": "code",
   "execution_count": 1,
   "metadata": {},
   "outputs": [],
   "source": [
    "import arcgis"
   ]
  },
  {
   "cell_type": "markdown",
   "metadata": {},
   "source": [
    "> ***Tip:*** Remember you can use `[Shift]+[Enter]` to run the cell."
   ]
  },
  {
   "cell_type": "markdown",
   "metadata": {},
   "source": [
    "You can create the GIS object while passing in no parameters and this will connect to ArcGIS online as an anonymous user. \n",
    "\n",
    "<ul style=\"list-style-type:circle\">\n",
    "    <li>Write the code to create a gis object and assign it to a variable named <code>gis</code>, using <code>arcgis.GIS()</code>.</li>\n",
    "</ul>"
   ]
  },
  {
   "cell_type": "code",
   "execution_count": 2,
   "metadata": {},
   "outputs": [],
   "source": [
    "gis = arcgis.GIS()"
   ]
  },
  {
   "cell_type": "markdown",
   "metadata": {},
   "source": [
    "Alternatively, and more likely, you pass in the url and your login credentials. For your course the `url` is the main ArcGIS Online URL while the `username` and `password` were given to you by your instructor. \n",
    "\n",
    "<ul style=\"list-style-type:circle\">\n",
    "    <li>Create the gis object and pass in the URL, username, and password, assigning it to the <code>gis</code> variable .</li>\n",
    "</ul>"
   ]
  },
  {
   "cell_type": "code",
   "execution_count": 3,
   "metadata": {},
   "outputs": [
    {
     "ename": "Exception",
     "evalue": "Unable to generate token.\n'username' must be specified.\n(Error Code: 400)",
     "output_type": "error",
     "traceback": [
      "\u001b[1;31m---------------------------------------------------------------------------\u001b[0m",
      "\u001b[1;31mException\u001b[0m                                 Traceback (most recent call last)",
      "\u001b[1;32m<ipython-input-3-6799e0d631c6>\u001b[0m in \u001b[0;36m<module>\u001b[1;34m\u001b[0m\n\u001b[0;32m      2\u001b[0m \u001b[0musername\u001b[0m \u001b[1;33m=\u001b[0m \u001b[1;34m'<your username>'\u001b[0m\u001b[1;33m\u001b[0m\u001b[1;33m\u001b[0m\u001b[0m\n\u001b[0;32m      3\u001b[0m \u001b[0mpassword\u001b[0m \u001b[1;33m=\u001b[0m \u001b[1;34m'<your password>'\u001b[0m\u001b[1;33m\u001b[0m\u001b[1;33m\u001b[0m\u001b[0m\n\u001b[1;32m----> 4\u001b[1;33m \u001b[0mgis\u001b[0m \u001b[1;33m=\u001b[0m \u001b[0marcgis\u001b[0m\u001b[1;33m.\u001b[0m\u001b[0mGIS\u001b[0m\u001b[1;33m(\u001b[0m\u001b[0murl\u001b[0m\u001b[1;33m,\u001b[0m \u001b[0musername\u001b[0m\u001b[1;33m,\u001b[0m \u001b[0mpassword\u001b[0m\u001b[1;33m)\u001b[0m\u001b[1;33m\u001b[0m\u001b[1;33m\u001b[0m\u001b[0m\n\u001b[0m",
      "\u001b[1;32mC:\\Program Files\\ArcGIS\\Pro\\bin\\Python\\envs\\arcgispro-py3\\lib\\site-packages\\arcgis\\gis\\__init__.py\u001b[0m in \u001b[0;36m__init__\u001b[1;34m(self, url, username, password, key_file, cert_file, verify_cert, set_active, client_id, profile, **kwargs)\u001b[0m\n\u001b[0;32m    337\u001b[0m                                    \"argument when connecting to the GIS.\")\n\u001b[0;32m    338\u001b[0m             \u001b[1;32melse\u001b[0m\u001b[1;33m:\u001b[0m\u001b[1;33m\u001b[0m\u001b[1;33m\u001b[0m\u001b[0m\n\u001b[1;32m--> 339\u001b[1;33m                 \u001b[1;32mraise\u001b[0m \u001b[0me\u001b[0m\u001b[1;33m\u001b[0m\u001b[1;33m\u001b[0m\u001b[0m\n\u001b[0m\u001b[0;32m    340\u001b[0m         \u001b[1;32mtry\u001b[0m\u001b[1;33m:\u001b[0m\u001b[1;33m\u001b[0m\u001b[1;33m\u001b[0m\u001b[0m\n\u001b[0;32m    341\u001b[0m             \u001b[1;32mif\u001b[0m \u001b[0murl\u001b[0m\u001b[1;33m.\u001b[0m\u001b[0mlower\u001b[0m\u001b[1;33m(\u001b[0m\u001b[1;33m)\u001b[0m\u001b[1;33m.\u001b[0m\u001b[0mfind\u001b[0m\u001b[1;33m(\u001b[0m\u001b[1;34m\"arcgis.com\"\u001b[0m\u001b[1;33m)\u001b[0m \u001b[1;33m>\u001b[0m \u001b[1;33m-\u001b[0m\u001b[1;36m1\u001b[0m \u001b[1;32mand\u001b[0m\u001b[0;31m \u001b[0m\u001b[0;31m\\\u001b[0m\u001b[1;33m\u001b[0m\u001b[1;33m\u001b[0m\u001b[0m\n",
      "\u001b[1;32mC:\\Program Files\\ArcGIS\\Pro\\bin\\Python\\envs\\arcgispro-py3\\lib\\site-packages\\arcgis\\gis\\__init__.py\u001b[0m in \u001b[0;36m__init__\u001b[1;34m(self, url, username, password, key_file, cert_file, verify_cert, set_active, client_id, profile, **kwargs)\u001b[0m\n\u001b[0;32m    321\u001b[0m                                            \u001b[0mexpiration\u001b[0m\u001b[1;33m=\u001b[0m\u001b[0mself\u001b[0m\u001b[1;33m.\u001b[0m\u001b[0m_expiration\u001b[0m\u001b[1;33m,\u001b[0m\u001b[1;33m\u001b[0m\u001b[1;33m\u001b[0m\u001b[0m\n\u001b[0;32m    322\u001b[0m                                            \u001b[0mreferer\u001b[0m\u001b[1;33m=\u001b[0m\u001b[0mself\u001b[0m\u001b[1;33m.\u001b[0m\u001b[0m_referer\u001b[0m\u001b[1;33m,\u001b[0m\u001b[1;33m\u001b[0m\u001b[1;33m\u001b[0m\u001b[0m\n\u001b[1;32m--> 323\u001b[1;33m                                            custom_auth=custom_auth)\n\u001b[0m\u001b[0;32m    324\u001b[0m             \u001b[1;32mif\u001b[0m \u001b[0mself\u001b[0m\u001b[1;33m.\u001b[0m\u001b[0m_is_hosted_nb_home\u001b[0m\u001b[1;33m:\u001b[0m\u001b[1;33m\u001b[0m\u001b[1;33m\u001b[0m\u001b[0m\n\u001b[0;32m    325\u001b[0m                 \u001b[1;31m# For GIS(\"home\") objects, force no referer passed in\u001b[0m\u001b[1;33m\u001b[0m\u001b[1;33m\u001b[0m\u001b[1;33m\u001b[0m\u001b[0m\n",
      "\u001b[1;32mC:\\Program Files\\ArcGIS\\Pro\\bin\\Python\\envs\\arcgispro-py3\\lib\\site-packages\\arcgis\\gis\\_impl\\_portalpy.py\u001b[0m in \u001b[0;36m__init__\u001b[1;34m(self, url, username, password, key_file, cert_file, expiration, referer, proxy_host, proxy_port, connection, workdir, tokenurl, verify_cert, client_id, custom_auth, token)\u001b[0m\n\u001b[0;32m    167\u001b[0m                                       token=token)\n\u001b[0;32m    168\u001b[0m         \u001b[1;31m#self.get_version(True)\u001b[0m\u001b[1;33m\u001b[0m\u001b[1;33m\u001b[0m\u001b[1;33m\u001b[0m\u001b[0m\n\u001b[1;32m--> 169\u001b[1;33m         \u001b[0mself\u001b[0m\u001b[1;33m.\u001b[0m\u001b[0mget_properties\u001b[0m\u001b[1;33m(\u001b[0m\u001b[1;32mTrue\u001b[0m\u001b[1;33m)\u001b[0m\u001b[1;33m\u001b[0m\u001b[1;33m\u001b[0m\u001b[0m\n\u001b[0m\u001b[0;32m    170\u001b[0m \u001b[1;33m\u001b[0m\u001b[0m\n\u001b[0;32m    171\u001b[0m \u001b[1;33m\u001b[0m\u001b[0m\n",
      "\u001b[1;32mC:\\Program Files\\ArcGIS\\Pro\\bin\\Python\\envs\\arcgispro-py3\\lib\\site-packages\\arcgis\\gis\\_impl\\_portalpy.py\u001b[0m in \u001b[0;36mget_properties\u001b[1;34m(self, force)\u001b[0m\n\u001b[0;32m   1107\u001b[0m                     \u001b[0mresp\u001b[0m \u001b[1;33m=\u001b[0m \u001b[0mself\u001b[0m\u001b[1;33m.\u001b[0m\u001b[0mcon\u001b[0m\u001b[1;33m.\u001b[0m\u001b[0mget\u001b[0m\u001b[1;33m(\u001b[0m\u001b[0mpath\u001b[0m\u001b[1;33m,\u001b[0m \u001b[0mssl\u001b[0m\u001b[1;33m=\u001b[0m\u001b[1;32mTrue\u001b[0m\u001b[1;33m)\u001b[0m \u001b[1;31m# issue seen with key, cert auth\u001b[0m\u001b[1;33m\u001b[0m\u001b[1;33m\u001b[0m\u001b[0m\n\u001b[0;32m   1108\u001b[0m                 \u001b[1;32mif\u001b[0m \u001b[1;32mnot\u001b[0m \u001b[0mresp\u001b[0m\u001b[1;33m:\u001b[0m\u001b[1;33m\u001b[0m\u001b[1;33m\u001b[0m\u001b[0m\n\u001b[1;32m-> 1109\u001b[1;33m                     \u001b[1;32mraise\u001b[0m \u001b[0me\u001b[0m\u001b[1;33m\u001b[0m\u001b[1;33m\u001b[0m\u001b[0m\n\u001b[0m\u001b[0;32m   1110\u001b[0m \u001b[1;33m\u001b[0m\u001b[0m\n\u001b[0;32m   1111\u001b[0m             \u001b[1;32mif\u001b[0m \u001b[0mresp\u001b[0m\u001b[1;33m:\u001b[0m\u001b[1;33m\u001b[0m\u001b[1;33m\u001b[0m\u001b[0m\n",
      "\u001b[1;32mC:\\Program Files\\ArcGIS\\Pro\\bin\\Python\\envs\\arcgispro-py3\\lib\\site-packages\\arcgis\\gis\\_impl\\_portalpy.py\u001b[0m in \u001b[0;36mget_properties\u001b[1;34m(self, force)\u001b[0m\n\u001b[0;32m   1095\u001b[0m             \u001b[0mresp\u001b[0m \u001b[1;33m=\u001b[0m \u001b[1;32mNone\u001b[0m\u001b[1;33m\u001b[0m\u001b[1;33m\u001b[0m\u001b[0m\n\u001b[0;32m   1096\u001b[0m             \u001b[1;32mtry\u001b[0m\u001b[1;33m:\u001b[0m\u001b[1;33m\u001b[0m\u001b[1;33m\u001b[0m\u001b[0m\n\u001b[1;32m-> 1097\u001b[1;33m                 \u001b[0mresp\u001b[0m \u001b[1;33m=\u001b[0m \u001b[0mself\u001b[0m\u001b[1;33m.\u001b[0m\u001b[0mcon\u001b[0m\u001b[1;33m.\u001b[0m\u001b[0mpost\u001b[0m\u001b[1;33m(\u001b[0m\u001b[0mpath\u001b[0m\u001b[1;33m,\u001b[0m \u001b[0mself\u001b[0m\u001b[1;33m.\u001b[0m\u001b[0m_postdata\u001b[0m\u001b[1;33m(\u001b[0m\u001b[1;33m)\u001b[0m\u001b[1;33m,\u001b[0m \u001b[0mssl\u001b[0m\u001b[1;33m=\u001b[0m\u001b[1;32mTrue\u001b[0m\u001b[1;33m)\u001b[0m\u001b[1;33m\u001b[0m\u001b[1;33m\u001b[0m\u001b[0m\n\u001b[0m\u001b[0;32m   1098\u001b[0m             \u001b[1;32mexcept\u001b[0m \u001b[0mException\u001b[0m \u001b[1;32mas\u001b[0m \u001b[0me\u001b[0m\u001b[1;33m:\u001b[0m\u001b[1;33m\u001b[0m\u001b[1;33m\u001b[0m\u001b[0m\n\u001b[0;32m   1099\u001b[0m                 \u001b[1;32mif\u001b[0m \u001b[1;32mnot\u001b[0m \u001b[0mself\u001b[0m\u001b[1;33m.\u001b[0m\u001b[0mcon\u001b[0m\u001b[1;33m.\u001b[0m\u001b[0m_verify_cert\u001b[0m \u001b[1;32mand\u001b[0m\u001b[0;31m \u001b[0m\u001b[0;31m\\\u001b[0m\u001b[1;33m\u001b[0m\u001b[1;33m\u001b[0m\u001b[0m\n",
      "\u001b[1;32mC:\\Program Files\\ArcGIS\\Pro\\bin\\Python\\envs\\arcgispro-py3\\lib\\site-packages\\arcgis\\gis\\_impl\\_con\\_connection.py\u001b[0m in \u001b[0;36mpost\u001b[1;34m(self, path, params, files, **kwargs)\u001b[0m\n\u001b[0;32m    619\u001b[0m                     \u001b[0mparams\u001b[0m\u001b[1;33m.\u001b[0m\u001b[0mpop\u001b[0m\u001b[1;33m(\u001b[0m\u001b[1;34m'token'\u001b[0m\u001b[1;33m,\u001b[0m \u001b[1;32mNone\u001b[0m\u001b[1;33m)\u001b[0m\u001b[1;33m\u001b[0m\u001b[1;33m\u001b[0m\u001b[0m\n\u001b[0;32m    620\u001b[0m                     \u001b[1;31m#pass\u001b[0m\u001b[1;33m\u001b[0m\u001b[1;33m\u001b[0m\u001b[1;33m\u001b[0m\u001b[0m\n\u001b[1;32m--> 621\u001b[1;33m             \u001b[1;32melif\u001b[0m \u001b[0mtoken_as_header\u001b[0m \u001b[1;33m==\u001b[0m \u001b[1;32mFalse\u001b[0m \u001b[1;32mand\u001b[0m \u001b[0mself\u001b[0m\u001b[1;33m.\u001b[0m\u001b[0mtoken\u001b[0m \u001b[1;32mis\u001b[0m \u001b[1;32mnot\u001b[0m \u001b[1;32mNone\u001b[0m\u001b[1;33m:\u001b[0m \u001b[1;31m#as ?token=\u001b[0m\u001b[1;33m\u001b[0m\u001b[1;33m\u001b[0m\u001b[0m\n\u001b[0m\u001b[0;32m    622\u001b[0m                 \u001b[0mparams\u001b[0m\u001b[1;33m[\u001b[0m\u001b[1;34m'token'\u001b[0m\u001b[1;33m]\u001b[0m \u001b[1;33m=\u001b[0m \u001b[0mself\u001b[0m\u001b[1;33m.\u001b[0m\u001b[0mtoken\u001b[0m\u001b[1;33m\u001b[0m\u001b[1;33m\u001b[0m\u001b[0m\n\u001b[0;32m    623\u001b[0m             \u001b[1;32melif\u001b[0m \u001b[0mtoken_as_header\u001b[0m \u001b[1;32mand\u001b[0m \u001b[0mself\u001b[0m\u001b[1;33m.\u001b[0m\u001b[0mtoken\u001b[0m \u001b[1;32mis\u001b[0m \u001b[1;32mnot\u001b[0m \u001b[1;32mNone\u001b[0m\u001b[1;33m:\u001b[0m\u001b[1;31m#(token and token != _DEFAULT_TOKEN): # as X-Esri-Auth header with given token\u001b[0m\u001b[1;33m\u001b[0m\u001b[1;33m\u001b[0m\u001b[0m\n",
      "\u001b[1;32mC:\\Program Files\\ArcGIS\\Pro\\bin\\Python\\envs\\arcgispro-py3\\lib\\site-packages\\arcgis\\gis\\_impl\\_con\\_connection.py\u001b[0m in \u001b[0;36mtoken\u001b[1;34m(self)\u001b[0m\n\u001b[0;32m   1026\u001b[0m                                    \"AGO\", \"ENTERPRISE\"] and \\\n\u001b[0;32m   1027\u001b[0m                  \u001b[0mself\u001b[0m\u001b[1;33m.\u001b[0m\u001b[0m_auth\u001b[0m \u001b[1;33m==\u001b[0m \u001b[1;34m\"BUILTIN\"\u001b[0m\u001b[1;33m:\u001b[0m\u001b[1;33m\u001b[0m\u001b[1;33m\u001b[0m\u001b[0m\n\u001b[1;32m-> 1028\u001b[1;33m                 \u001b[0mself\u001b[0m\u001b[1;33m.\u001b[0m\u001b[0m_token\u001b[0m \u001b[1;33m=\u001b[0m \u001b[0mself\u001b[0m\u001b[1;33m.\u001b[0m\u001b[0m_enterprise_token\u001b[0m\u001b[1;33m(\u001b[0m\u001b[1;33m)\u001b[0m\u001b[1;33m\u001b[0m\u001b[1;33m\u001b[0m\u001b[0m\n\u001b[0m\u001b[0;32m   1029\u001b[0m                 \u001b[1;32mreturn\u001b[0m \u001b[0mself\u001b[0m\u001b[1;33m.\u001b[0m\u001b[0m_token\u001b[0m\u001b[1;33m\u001b[0m\u001b[1;33m\u001b[0m\u001b[0m\n\u001b[0;32m   1030\u001b[0m             \u001b[1;32melse\u001b[0m\u001b[1;33m:\u001b[0m\u001b[1;33m\u001b[0m\u001b[1;33m\u001b[0m\u001b[0m\n",
      "\u001b[1;32mC:\\Program Files\\ArcGIS\\Pro\\bin\\Python\\envs\\arcgispro-py3\\lib\\site-packages\\arcgis\\gis\\_impl\\_con\\_connection.py\u001b[0m in \u001b[0;36m_enterprise_token\u001b[1;34m(self)\u001b[0m\n\u001b[0;32m   1143\u001b[0m         res = self.post(path=self._token_url,\n\u001b[0;32m   1144\u001b[0m                         \u001b[0mparams\u001b[0m\u001b[1;33m=\u001b[0m\u001b[0mpostdata\u001b[0m\u001b[1;33m,\u001b[0m\u001b[1;33m\u001b[0m\u001b[1;33m\u001b[0m\u001b[0m\n\u001b[1;32m-> 1145\u001b[1;33m                         add_token=False)\n\u001b[0m\u001b[0;32m   1146\u001b[0m         \u001b[1;32mif\u001b[0m \u001b[1;34m'error'\u001b[0m \u001b[1;32min\u001b[0m \u001b[0mres\u001b[0m\u001b[1;33m:\u001b[0m\u001b[1;33m\u001b[0m\u001b[1;33m\u001b[0m\u001b[0m\n\u001b[0;32m   1147\u001b[0m             \u001b[1;32mraise\u001b[0m \u001b[0mException\u001b[0m\u001b[1;33m(\u001b[0m\u001b[0mres\u001b[0m\u001b[1;33m[\u001b[0m\u001b[1;34m'error'\u001b[0m\u001b[1;33m]\u001b[0m\u001b[1;33m)\u001b[0m\u001b[1;33m\u001b[0m\u001b[1;33m\u001b[0m\u001b[0m\n",
      "\u001b[1;32mC:\\Program Files\\ArcGIS\\Pro\\bin\\Python\\envs\\arcgispro-py3\\lib\\site-packages\\arcgis\\gis\\_impl\\_con\\_connection.py\u001b[0m in \u001b[0;36mpost\u001b[1;34m(self, path, params, files, **kwargs)\u001b[0m\n\u001b[0;32m    708\u001b[0m                                      \u001b[0mfile_name\u001b[0m\u001b[1;33m=\u001b[0m\u001b[0mfile_name\u001b[0m\u001b[1;33m,\u001b[0m\u001b[1;33m\u001b[0m\u001b[1;33m\u001b[0m\u001b[0m\n\u001b[0;32m    709\u001b[0m                                      \u001b[0mtry_json\u001b[0m\u001b[1;33m=\u001b[0m\u001b[0mtry_json\u001b[0m\u001b[1;33m,\u001b[0m\u001b[1;33m\u001b[0m\u001b[1;33m\u001b[0m\u001b[0m\n\u001b[1;32m--> 710\u001b[1;33m                                      force_bytes=kwargs.pop('force_bytes', False))\n\u001b[0m\u001b[0;32m    711\u001b[0m     \u001b[1;31m#----------------------------------------------------------------------\u001b[0m\u001b[1;33m\u001b[0m\u001b[1;33m\u001b[0m\u001b[1;33m\u001b[0m\u001b[0m\n\u001b[0;32m    712\u001b[0m     \u001b[1;32mdef\u001b[0m \u001b[0mput\u001b[0m\u001b[1;33m(\u001b[0m\u001b[0mself\u001b[0m\u001b[1;33m,\u001b[0m \u001b[0murl\u001b[0m\u001b[1;33m,\u001b[0m \u001b[0mparams\u001b[0m\u001b[1;33m=\u001b[0m\u001b[1;32mNone\u001b[0m\u001b[1;33m,\u001b[0m \u001b[0mfiles\u001b[0m\u001b[1;33m=\u001b[0m\u001b[1;32mNone\u001b[0m\u001b[1;33m,\u001b[0m \u001b[1;33m**\u001b[0m\u001b[0mkwargs\u001b[0m\u001b[1;33m)\u001b[0m\u001b[1;33m:\u001b[0m\u001b[1;33m\u001b[0m\u001b[1;33m\u001b[0m\u001b[0m\n",
      "\u001b[1;32mC:\\Program Files\\ArcGIS\\Pro\\bin\\Python\\envs\\arcgispro-py3\\lib\\site-packages\\arcgis\\gis\\_impl\\_con\\_connection.py\u001b[0m in \u001b[0;36m_handle_response\u001b[1;34m(self, resp, file_name, out_path, try_json, force_bytes)\u001b[0m\n\u001b[0;32m    503\u001b[0m             \u001b[1;32mif\u001b[0m \u001b[1;34m'error'\u001b[0m \u001b[1;32min\u001b[0m \u001b[0mdata\u001b[0m\u001b[1;33m:\u001b[0m\u001b[1;33m\u001b[0m\u001b[1;33m\u001b[0m\u001b[0m\n\u001b[0;32m    504\u001b[0m                 \u001b[0merrorcode\u001b[0m \u001b[1;33m=\u001b[0m \u001b[0mdata\u001b[0m\u001b[1;33m[\u001b[0m\u001b[1;34m'error'\u001b[0m\u001b[1;33m]\u001b[0m\u001b[1;33m[\u001b[0m\u001b[1;34m'code'\u001b[0m\u001b[1;33m]\u001b[0m \u001b[1;32mif\u001b[0m \u001b[1;34m'code'\u001b[0m \u001b[1;32min\u001b[0m \u001b[0mdata\u001b[0m\u001b[1;33m[\u001b[0m\u001b[1;34m'error'\u001b[0m\u001b[1;33m]\u001b[0m \u001b[1;32melse\u001b[0m \u001b[1;36m0\u001b[0m\u001b[1;33m\u001b[0m\u001b[1;33m\u001b[0m\u001b[0m\n\u001b[1;32m--> 505\u001b[1;33m                 \u001b[0mself\u001b[0m\u001b[1;33m.\u001b[0m\u001b[0m_handle_json_error\u001b[0m\u001b[1;33m(\u001b[0m\u001b[0mdata\u001b[0m\u001b[1;33m[\u001b[0m\u001b[1;34m'error'\u001b[0m\u001b[1;33m]\u001b[0m\u001b[1;33m,\u001b[0m \u001b[0merrorcode\u001b[0m\u001b[1;33m)\u001b[0m\u001b[1;33m\u001b[0m\u001b[1;33m\u001b[0m\u001b[0m\n\u001b[0m\u001b[0;32m    506\u001b[0m             \u001b[1;32mreturn\u001b[0m \u001b[0mdata\u001b[0m\u001b[1;33m\u001b[0m\u001b[1;33m\u001b[0m\u001b[0m\n\u001b[0;32m    507\u001b[0m         \u001b[1;32melse\u001b[0m\u001b[1;33m:\u001b[0m\u001b[1;33m\u001b[0m\u001b[1;33m\u001b[0m\u001b[0m\n",
      "\u001b[1;32mC:\\Program Files\\ArcGIS\\Pro\\bin\\Python\\envs\\arcgispro-py3\\lib\\site-packages\\arcgis\\gis\\_impl\\_con\\_connection.py\u001b[0m in \u001b[0;36m_handle_json_error\u001b[1;34m(self, error, errorcode)\u001b[0m\n\u001b[0;32m    521\u001b[0m \u001b[1;33m\u001b[0m\u001b[0m\n\u001b[0;32m    522\u001b[0m         \u001b[0merrormessage\u001b[0m \u001b[1;33m=\u001b[0m \u001b[0merrormessage\u001b[0m \u001b[1;33m+\u001b[0m \u001b[1;34m\"\\n(Error Code: \"\u001b[0m \u001b[1;33m+\u001b[0m \u001b[0mstr\u001b[0m\u001b[1;33m(\u001b[0m\u001b[0merrorcode\u001b[0m\u001b[1;33m)\u001b[0m \u001b[1;33m+\u001b[0m\u001b[1;34m\")\"\u001b[0m\u001b[1;33m\u001b[0m\u001b[1;33m\u001b[0m\u001b[0m\n\u001b[1;32m--> 523\u001b[1;33m         \u001b[1;32mraise\u001b[0m \u001b[0mException\u001b[0m\u001b[1;33m(\u001b[0m\u001b[0merrormessage\u001b[0m\u001b[1;33m)\u001b[0m\u001b[1;33m\u001b[0m\u001b[1;33m\u001b[0m\u001b[0m\n\u001b[0m\u001b[0;32m    524\u001b[0m     \u001b[1;31m#----------------------------------------------------------------------\u001b[0m\u001b[1;33m\u001b[0m\u001b[1;33m\u001b[0m\u001b[1;33m\u001b[0m\u001b[0m\n\u001b[0;32m    525\u001b[0m     def post(self,\n",
      "\u001b[1;31mException\u001b[0m: Unable to generate token.\n'username' must be specified.\n(Error Code: 400)"
     ]
    }
   ],
   "source": [
    "url = 'http://www.arcgis.com'\n",
    "username = '<your username>'\n",
    "password = '<your password>'\n",
    "gis = arcgis.GIS(url, username, password)"
   ]
  },
  {
   "cell_type": "markdown",
   "metadata": {},
   "source": [
    "If connecting to an ArcGIS Enterprise in your premises, your URL becomes `http://machinename.domain.com/webadapter`. Your GIS can support a [number of authentication schemes](http://server.arcgis.com/en/portal/latest/administer/windows/about-configuring-portal-authentication.htm), refer to [this section of the guide](https://developers.arcgis.com/python/guide/working-with-different-authentication-schemes/) to know how to **authenticate your scripts and notebooks** for various such schemes."
   ]
  },
  {
   "cell_type": "markdown",
   "metadata": {},
   "source": [
    "Adding a '?' mark after an object and querying it brings up help for that object in the notebook.\n",
    "\n",
    "<ul style=\"list-style-type:circle\">\n",
    "    <li>Type the name of your <code>gis</code> variable with a <code>?</code> after it and run the cell.</li>\n",
    "</ul>"
   ]
  },
  {
   "cell_type": "code",
   "execution_count": null,
   "metadata": {},
   "outputs": [],
   "source": [
    "gis?"
   ]
  },
  {
   "cell_type": "markdown",
   "metadata": {},
   "source": [
    "The notebook provides intellisense and code-completion. Typing a dot after an object and hitting tab brings up a drop-down with its properties and methods.\n",
    "\n",
    "![dropdown showing members of GIS class](http://esri.github.io/arcgis-python-api/notebooks/nbimages/01-dropdown.png)\n",
    "\n",
    "<ul style=\"list-style-type:circle\">\n",
    "    <li>Type the name of your <code>gis</code> variable with a dot after it and hit the tab key.</li>\n",
    "</ul>"
   ]
  },
  {
   "cell_type": "code",
   "execution_count": null,
   "metadata": {},
   "outputs": [],
   "source": [
    "gis."
   ]
  },
  {
   "cell_type": "markdown",
   "metadata": {},
   "source": [
    "### Step 2: Helper objects\n",
    "The `GIS` object provides helper objects to manage the GIS resources, i.e. the users, groups, content and datastores. These helper utilities are in the form of helper objects named: `users`, `groups`, `content` and `datastore` respectively. The helper utility for managing user roles named `roles` is available as a property on the helper object `users`.\n",
    "\n",
    "Each such helper object has similar patterns of usage: there are methods to `get()`, `search()` and `create()` the respective resources.\n",
    "\n",
    "The prescribed programming pattern is to not create the GIS resources (user, group, item, role, datastore) directly using their constructor, but to access them through their corresponding helper objects described above."
   ]
  },
  {
   "cell_type": "markdown",
   "metadata": {},
   "source": [
    "Thus, to access a user, you would use the `users` property of your `gis` object which gives you an instance of `UserManager` class. You would then call the `get()` method of the `UserManager` object and pass the user name of the user you are interested in. \n",
    "\n",
    "<ul style=\"list-style-type:circle\">\n",
    "    <li>Write the code to get the user object for your username and assign it to a variable named <code>user</code>.</li>\n",
    "</ul>"
   ]
  },
  {
   "cell_type": "code",
   "execution_count": null,
   "metadata": {},
   "outputs": [],
   "source": [
    "user = gis.users.get(username)"
   ]
  },
  {
   "cell_type": "markdown",
   "metadata": {},
   "source": [
    "### Step 3: Rich IDE experience with Jupyter notebooks\n",
    "The ArcGIS API for Python is integrated with Jupyter Notebook to make it easy to visualize and interact with GIS resources. For many objects, just typing the name of the variable and running it will provide a rich representation of the object. For example, \n",
    "\n",
    "<ul style=\"list-style-type:circle\">\n",
    "    <li>run the cell below to see what is in the <code>user</code> object.</li>\n",
    "</ul>"
   ]
  },
  {
   "cell_type": "code",
   "execution_count": null,
   "metadata": {},
   "outputs": [],
   "source": [
    "user"
   ]
  },
  {
   "cell_type": "markdown",
   "metadata": {},
   "source": [
    "The resources are implemented as Python dictionaries. You can query for the resource properties using the <b><code>resource['property']</code></b> notation. For example,\n",
    "\n",
    "<ul style=\"list-style-type:circle\">\n",
    "    <li>query the user dictionary to get the `firstName` of the user.</li>\n",
    "</ul>"
   ]
  },
  {
   "cell_type": "code",
   "execution_count": null,
   "metadata": {},
   "outputs": [],
   "source": [
    "user['firstName']"
   ]
  },
  {
   "cell_type": "markdown",
   "metadata": {},
   "source": [
    "The properties are also available as properties on the resource object, so you can use the dot notation to access them. \n",
    "\n",
    "<ul style=\"list-style-type:circle\">\n",
    "    <li>Get the <code>lastName</code> of the user using the dot notation.</li>\n",
    "</ul>"
   ]
  },
  {
   "cell_type": "code",
   "execution_count": null,
   "metadata": {},
   "outputs": [],
   "source": [
    "user.lastName"
   ]
  },
  {
   "cell_type": "markdown",
   "metadata": {},
   "source": [
    "The resources provide methods to `update()`, `delete()` and use the object. The remainder of topics in this module talk in detail about using the various helper objects and resource objects."
   ]
  },
  {
   "cell_type": "markdown",
   "metadata": {},
   "source": [
    "### Step 4: Investigate the course group\n",
    "\n",
    "The users in your class all belong to a group that was pre-created by the instructor. You can see who all the users are in the group. \n",
    "\n",
    "<ul style=\"list-style-type:circle\">\n",
    "    <li>If necessary, change the names of your group and the owner in the code below and run the cell to get the group.</li>\n",
    "</ul>"
   ]
  },
  {
   "cell_type": "code",
   "execution_count": null,
   "metadata": {},
   "outputs": [],
   "source": [
    "# ----------------------------------------------------------------------------------\n",
    "# Replace the owner name and the group name with those provided by your instructor.\n",
    "# ----------------------------------------------------------------------------------\n",
    "owner_name = 'olitraining'\n",
    "group_name = 'Training'\n",
    "groups = gis.groups.search('owner:{} title:{}'.format(owner_name, group_name))\n",
    "groups"
   ]
  },
  {
   "cell_type": "markdown",
   "metadata": {},
   "source": [
    "If no groups are returned then verify that the `owner_name` and `group_name` are correct otherwise the code below will not work!\n",
    "\n",
    "<ul style=\"list-style-type:circle\">\n",
    "    <li>Run the cell below.</li>\n",
    "</ul>"
   ]
  },
  {
   "cell_type": "code",
   "execution_count": null,
   "metadata": {},
   "outputs": [],
   "source": [
    "# ---------------------------------\n",
    "# Write out list of group members.\n",
    "# ---------------------------------\n",
    "if groups:\n",
    "    group = groups[0]\n",
    "    members = group.get_members()\n",
    "\n",
    "    # --------------------------------------------------\n",
    "    # Members is a dictionary with 3 types of accounts.\n",
    "    # --------------------------------------------------\n",
    "    for member_type, names in members.items():\n",
    "        if member_type == 'owner':\n",
    "            print('Group: {} Member type: {:6s} Name: {}'.format(group_name, member_type, names))\n",
    "        else:\n",
    "            for name in names:\n",
    "                print('Group: {} Member type: {:6s} Name: {}'.format(group_name, member_type, name))"
   ]
  },
  {
   "cell_type": "markdown",
   "metadata": {},
   "source": [
    "### Step 5: Embedded maps in Jupyter notebooks\n",
    "\n",
    "The `GIS` object includes a map widget that can be used to visualize the content of your GIS as well as see the results of your analysis. Let's bring up a map of your city. \n",
    "\n",
    "<ul style=\"list-style-type:circle\">\n",
    "    <li>Type in the name of your city in the code block below and run the cell.</li>\n",
    "</ul>"
   ]
  },
  {
   "cell_type": "code",
   "execution_count": 4,
   "metadata": {},
   "outputs": [
    {
     "data": {
      "application/vnd.jupyter.widget-view+json": {
       "model_id": "290a4fb5b4b14050a89416b328e51655",
       "version_major": 2,
       "version_minor": 0
      },
      "text/plain": [
       "MapView(layout=Layout(height='400px', width='100%'))"
      ]
     },
     "metadata": {},
     "output_type": "display_data"
    },
    {
     "data": {
      "text/html": [
       "<div class=\"map-static-img-preview-bc4b2be6-25eb-4728-95d8-d667cf8842d8\"><img src=\"\"></img></div>"
      ],
      "text/plain": [
       "<IPython.core.display.HTML object>"
      ]
     },
     "metadata": {},
     "output_type": "display_data"
    }
   ],
   "source": [
    "city = 'Vancouver'\n",
    "map1 = gis.map(city)\n",
    "map1"
   ]
  },
  {
   "cell_type": "markdown",
   "metadata": {},
   "source": [
    "You can search for content in your GIS. Let's search for data in the area of your city. We do that by calling `gis.content.search()` and for each web map or web layer that gets returned, we can display its rich representation within the notebook.\n",
    "\n",
    "<ul style=\"list-style-type:circle\">\n",
    "    <li>Pass in your <code>city</code> variable into the <code>search()</code> method of the <code>content</code> manager and assign the resulting list to a variable named <code>items</code>.</li>\n",
    "</ul>"
   ]
  },
  {
   "cell_type": "code",
   "execution_count": 5,
   "metadata": {},
   "outputs": [],
   "source": [
    "items = gis.content.search(city)"
   ]
  },
  {
   "cell_type": "markdown",
   "metadata": {},
   "source": [
    "<ul style=\"list-style-type:circle\">\n",
    "    <li>Now run the code below to see the rich representation of the items in your list.</li>\n",
    "</ul>"
   ]
  },
  {
   "cell_type": "code",
   "execution_count": 6,
   "metadata": {},
   "outputs": [
    {
     "data": {
      "text/html": [
       "<div class=\"item_container\" style=\"height: auto; overflow: hidden; border: 1px solid #cfcfcf; border-radius: 2px; background: #f6fafa; line-height: 1.21429em; padding: 10px;\">\n",
       "                    <div class=\"item_left\" style=\"width: 210px; float: left;\">\n",
       "                       <a href='https://www.arcgis.com/home/item.html?id=037457dcdec44c249f11736da25a931e' target='_blank'>\n",
       "                        <img src='https://www.arcgis.com/sharing/rest//content/items/037457dcdec44c249f11736da25a931e/info/thumbnail/Optimized-storymap1.PNG' class=\"itemThumbnail\">\n",
       "                       </a>\n",
       "                    </div>\n",
       "\n",
       "                    <div class=\"item_right\"     style=\"float: none; width: auto; overflow: hidden;\">\n",
       "                        <a href='https://www.arcgis.com/home/item.html?id=037457dcdec44c249f11736da25a931e' target='_blank'><b>The Great Bear Sea of British Columbia:  Meet the Residents</b>\n",
       "                        </a>\n",
       "                        <br/>The Great Bear Sea on British Columbia's coast is one of Canada's ecological treasures, and one of the planet's most productive coldwater seas. Click through the tour to visit places that are worth protecting.<img src='https://www.arcgis.com/home/js/jsapi/esri/css/images/item_type_icons/layers16.png' style=\"vertical-align:middle;\">Web Mapping Application by LOS_2013\n",
       "                        <br/>Last Modified: October 29, 2014\n",
       "                        <br/>2 comments, 390 views\n",
       "                    </div>\n",
       "                </div>\n",
       "                "
      ],
      "text/plain": [
       "<Item title:\"The Great Bear Sea of British Columbia:  Meet the Residents\" type:Web Mapping Application owner:LOS_2013>"
      ]
     },
     "metadata": {},
     "output_type": "display_data"
    },
    {
     "data": {
      "text/html": [
       "<div class=\"item_container\" style=\"height: auto; overflow: hidden; border: 1px solid #cfcfcf; border-radius: 2px; background: #f6fafa; line-height: 1.21429em; padding: 10px;\">\n",
       "                    <div class=\"item_left\" style=\"width: 210px; float: left;\">\n",
       "                       <a href='https://www.arcgis.com/home/item.html?id=3a75a3ee1d1040838f382cbefce99125' target='_blank'>\n",
       "                        <img src='https://www.arcgis.com/sharing/rest//content/items/3a75a3ee1d1040838f382cbefce99125/info/thumbnail/thumbnail1579117297320.jpeg' class=\"itemThumbnail\">\n",
       "                       </a>\n",
       "                    </div>\n",
       "\n",
       "                    <div class=\"item_right\"     style=\"float: none; width: auto; overflow: hidden;\">\n",
       "                        <a href='https://www.arcgis.com/home/item.html?id=3a75a3ee1d1040838f382cbefce99125' target='_blank'><b>World Topo Base</b>\n",
       "                        </a>\n",
       "                        <br/>This layer highlights natural and landmark features with vivid colors and multidirectional hillshade. This layer is in beta.<img src='https://www.arcgis.com/home/js/jsapi/esri/css/images/item_type_icons/mapimages16.png' style=\"vertical-align:middle;\">Map Image Layer by esri\n",
       "                        <br/>Last Modified: February 05, 2020\n",
       "                        <br/>1 comments, 623,289 views\n",
       "                    </div>\n",
       "                </div>\n",
       "                "
      ],
      "text/plain": [
       "<Item title:\"World Topo Base\" type:Map Image Layer owner:esri>"
      ]
     },
     "metadata": {},
     "output_type": "display_data"
    },
    {
     "data": {
      "text/html": [
       "<div class=\"item_container\" style=\"height: auto; overflow: hidden; border: 1px solid #cfcfcf; border-radius: 2px; background: #f6fafa; line-height: 1.21429em; padding: 10px;\">\n",
       "                    <div class=\"item_left\" style=\"width: 210px; float: left;\">\n",
       "                       <a href='https://www.arcgis.com/home/item.html?id=8e241bb2d40a47e3baab960fff32b921' target='_blank'>\n",
       "                        <img src='https://www.arcgis.com/sharing/rest//content/items/8e241bb2d40a47e3baab960fff32b921/info/thumbnail/shortlistathletes.png' class=\"itemThumbnail\">\n",
       "                       </a>\n",
       "                    </div>\n",
       "\n",
       "                    <div class=\"item_right\"     style=\"float: none; width: auto; overflow: hidden;\">\n",
       "                        <a href='https://www.arcgis.com/home/item.html?id=8e241bb2d40a47e3baab960fff32b921' target='_blank'><b>Canadian Sochi Olympic Athletes</b>\n",
       "                        </a>\n",
       "                        <br/>A Map of the 2014 Canadian Olympic Athletes Hometowns<img src='https://www.arcgis.com/home/js/jsapi/esri/css/images/item_type_icons/layers16.png' style=\"vertical-align:middle;\">Web Mapping Application by esri_canada_mapping\n",
       "                        <br/>Last Modified: February 26, 2015\n",
       "                        <br/>0 comments, 243 views\n",
       "                    </div>\n",
       "                </div>\n",
       "                "
      ],
      "text/plain": [
       "<Item title:\"Canadian Sochi Olympic Athletes\" type:Web Mapping Application owner:esri_canada_mapping>"
      ]
     },
     "metadata": {},
     "output_type": "display_data"
    },
    {
     "data": {
      "text/html": [
       "<div class=\"item_container\" style=\"height: auto; overflow: hidden; border: 1px solid #cfcfcf; border-radius: 2px; background: #f6fafa; line-height: 1.21429em; padding: 10px;\">\n",
       "                    <div class=\"item_left\" style=\"width: 210px; float: left;\">\n",
       "                       <a href='https://www.arcgis.com/home/item.html?id=c7da180e4ca4414caa923d2e2724eb5c' target='_blank'>\n",
       "                        <img src='https://www.arcgis.com/sharing/rest//content/items/c7da180e4ca4414caa923d2e2724eb5c/info/thumbnail/Vancouver3DCity.png' class=\"itemThumbnail\">\n",
       "                       </a>\n",
       "                    </div>\n",
       "\n",
       "                    <div class=\"item_right\"     style=\"float: none; width: auto; overflow: hidden;\">\n",
       "                        <a href='https://www.arcgis.com/home/item.html?id=c7da180e4ca4414caa923d2e2724eb5c' target='_blank'><b>Vancouver, Canada Scene</b>\n",
       "                        </a>\n",
       "                        <br/>This scene highlights layers for Vancouver, Canada available in ArcGIS to support your work in 3D.  Use these layers in conjunction with your own layers to create new scenes focused on a specific topic or area of interest to you.<img src='https://www.arcgis.com/home/js/jsapi/esri/css/images/item_type_icons/websceneglobal16.png' style=\"vertical-align:middle;\">Web Scene by esri_3d\n",
       "                        <br/>Last Modified: May 01, 2020\n",
       "                        <br/>0 comments, 15,228 views\n",
       "                    </div>\n",
       "                </div>\n",
       "                "
      ],
      "text/plain": [
       "<Item title:\"Vancouver, Canada Scene\" type:Web Scene owner:esri_3d>"
      ]
     },
     "metadata": {},
     "output_type": "display_data"
    },
    {
     "data": {
      "text/html": [
       "<div class=\"item_container\" style=\"height: auto; overflow: hidden; border: 1px solid #cfcfcf; border-radius: 2px; background: #f6fafa; line-height: 1.21429em; padding: 10px;\">\n",
       "                    <div class=\"item_left\" style=\"width: 210px; float: left;\">\n",
       "                       <a href='https://www.arcgis.com/home/item.html?id=7980de9def6c45278dfa37fc3dd78c1f' target='_blank'>\n",
       "                        <img src='https://www.arcgis.com/sharing/rest//content/items/7980de9def6c45278dfa37fc3dd78c1f/info/thumbnail/thumbnail1552526687996.png' class=\"itemThumbnail\">\n",
       "                       </a>\n",
       "                    </div>\n",
       "\n",
       "                    <div class=\"item_right\"     style=\"float: none; width: auto; overflow: hidden;\">\n",
       "                        <a href='https://www.arcgis.com/home/item.html?id=7980de9def6c45278dfa37fc3dd78c1f' target='_blank'><b>.02 Identifying Historic Structural Remains at Fort Vancouver National Historic Site</b>\n",
       "                        </a>\n",
       "                        <br/>Using Kernel Density and Getis-Ord* hot spot analysis to identify likely locations of historic structural remains from shovel test data at Fort Vancouver National Historic Site.<img src='https://www.arcgis.com/home/js/jsapi/esri/css/images/item_type_icons/layers16.png' style=\"vertical-align:middle;\">Web Mapping Application by dms9_pdxedu\n",
       "                        <br/>Last Modified: March 13, 2019\n",
       "                        <br/>25 comments, 363 views\n",
       "                    </div>\n",
       "                </div>\n",
       "                "
      ],
      "text/plain": [
       "<Item title:\".02 Identifying Historic Structural Remains at Fort Vancouver National Historic Site\" type:Web Mapping Application owner:dms9_pdxedu>"
      ]
     },
     "metadata": {},
     "output_type": "display_data"
    },
    {
     "data": {
      "text/html": [
       "<div class=\"item_container\" style=\"height: auto; overflow: hidden; border: 1px solid #cfcfcf; border-radius: 2px; background: #f6fafa; line-height: 1.21429em; padding: 10px;\">\n",
       "                    <div class=\"item_left\" style=\"width: 210px; float: left;\">\n",
       "                       <a href='https://www.arcgis.com/home/item.html?id=d164eb7260a8447aa44398c83d6f01fb' target='_blank'>\n",
       "                        <img src='https://www.arcgis.com/sharing/rest//content/items/d164eb7260a8447aa44398c83d6f01fb/info/thumbnail/thumbnail1527047917303.png' class=\"itemThumbnail\">\n",
       "                       </a>\n",
       "                    </div>\n",
       "\n",
       "                    <div class=\"item_right\"     style=\"float: none; width: auto; overflow: hidden;\">\n",
       "                        <a href='https://www.arcgis.com/home/item.html?id=d164eb7260a8447aa44398c83d6f01fb' target='_blank'><b>Minimizing our Negative Impacts on the Environment on the Juan de Fuca Marine Trail</b>\n",
       "                        </a>\n",
       "                        <br/>A Story Map Cascade demonstrating my understanding on the research I conducted for my Driving Question on ecological preservation in the Relationship with Land Unit for my Social Studies 10 class.<img src='https://www.arcgis.com/home/js/jsapi/esri/css/images/item_type_icons/layers16.png' style=\"vertical-align:middle;\">Web Mapping Application by jayluo2155\n",
       "                        <br/>Last Modified: May 23, 2018\n",
       "                        <br/>0 comments, 639 views\n",
       "                    </div>\n",
       "                </div>\n",
       "                "
      ],
      "text/plain": [
       "<Item title:\"Minimizing our Negative Impacts on the Environment on the Juan de Fuca Marine Trail\" type:Web Mapping Application owner:jayluo2155>"
      ]
     },
     "metadata": {},
     "output_type": "display_data"
    },
    {
     "data": {
      "text/html": [
       "<div class=\"item_container\" style=\"height: auto; overflow: hidden; border: 1px solid #cfcfcf; border-radius: 2px; background: #f6fafa; line-height: 1.21429em; padding: 10px;\">\n",
       "                    <div class=\"item_left\" style=\"width: 210px; float: left;\">\n",
       "                       <a href='https://www.arcgis.com/home/item.html?id=5323570e1d5940168741ce56783c1827' target='_blank'>\n",
       "                        <img src='https://www.arcgis.com/sharing/rest//content/items/5323570e1d5940168741ce56783c1827/info/thumbnail/ago_downloaded.jpeg' class=\"itemThumbnail\">\n",
       "                       </a>\n",
       "                    </div>\n",
       "\n",
       "                    <div class=\"item_right\"     style=\"float: none; width: auto; overflow: hidden;\">\n",
       "                        <a href='https://www.arcgis.com/home/item.html?id=5323570e1d5940168741ce56783c1827' target='_blank'><b>Vancouver Airport</b>\n",
       "                        </a>\n",
       "                        <br/>Vancouver Airport<img src='https://www.arcgis.com/home/js/jsapi/esri/css/images/item_type_icons/websceneglobal16.png' style=\"vertical-align:middle;\">Web Scene by abhishek.s@globolive3d.com\n",
       "                        <br/>Last Modified: November 04, 2019\n",
       "                        <br/>0 comments, 104 views\n",
       "                    </div>\n",
       "                </div>\n",
       "                "
      ],
      "text/plain": [
       "<Item title:\"Vancouver Airport\" type:Web Scene owner:abhishek.s@globolive3d.com>"
      ]
     },
     "metadata": {},
     "output_type": "display_data"
    },
    {
     "data": {
      "text/html": [
       "<div class=\"item_container\" style=\"height: auto; overflow: hidden; border: 1px solid #cfcfcf; border-radius: 2px; background: #f6fafa; line-height: 1.21429em; padding: 10px;\">\n",
       "                    <div class=\"item_left\" style=\"width: 210px; float: left;\">\n",
       "                       <a href='https://www.arcgis.com/home/item.html?id=afbb3ce7d24148aa85011d13576ee938' target='_blank'>\n",
       "                        <img src='https://www.arcgis.com/sharing/rest//content/items/afbb3ce7d24148aa85011d13576ee938/info/thumbnail/canada.jpg' class=\"itemThumbnail\">\n",
       "                       </a>\n",
       "                    </div>\n",
       "\n",
       "                    <div class=\"item_right\"     style=\"float: none; width: auto; overflow: hidden;\">\n",
       "                        <a href='https://www.arcgis.com/home/item.html?id=afbb3ce7d24148aa85011d13576ee938' target='_blank'><b>Men's Ice Hockey Team</b>\n",
       "                        </a>\n",
       "                        <br/>Canadian Men's Ice Hockey Team's Journey<img src='https://www.arcgis.com/home/js/jsapi/esri/css/images/item_type_icons/layers16.png' style=\"vertical-align:middle;\">Web Mapping Application by esri_canada_mapping\n",
       "                        <br/>Last Modified: January 21, 2014\n",
       "                        <br/>0 comments, 302 views\n",
       "                    </div>\n",
       "                </div>\n",
       "                "
      ],
      "text/plain": [
       "<Item title:\"Men's Ice Hockey Team\" type:Web Mapping Application owner:esri_canada_mapping>"
      ]
     },
     "metadata": {},
     "output_type": "display_data"
    },
    {
     "data": {
      "text/html": [
       "<div class=\"item_container\" style=\"height: auto; overflow: hidden; border: 1px solid #cfcfcf; border-radius: 2px; background: #f6fafa; line-height: 1.21429em; padding: 10px;\">\n",
       "                    <div class=\"item_left\" style=\"width: 210px; float: left;\">\n",
       "                       <a href='https://www.arcgis.com/home/item.html?id=06d11f5be30a466db1117203e8f0d3c7' target='_blank'>\n",
       "                        <img src='https://www.arcgis.com/sharing/rest//content/items/06d11f5be30a466db1117203e8f0d3c7/info/thumbnail/58371097411fb8155898b6e12f401.jpg' class=\"itemThumbnail\">\n",
       "                       </a>\n",
       "                    </div>\n",
       "\n",
       "                    <div class=\"item_right\"     style=\"float: none; width: auto; overflow: hidden;\">\n",
       "                        <a href='https://www.arcgis.com/home/item.html?id=06d11f5be30a466db1117203e8f0d3c7' target='_blank'><b>Olympic Athletes Hometowns</b>\n",
       "                        </a>\n",
       "                        <br/>2014 Canadian Olympic Athletes Hometowns<img src='https://www.arcgis.com/home/js/jsapi/esri/css/images/item_type_icons/layers16.png' style=\"vertical-align:middle;\">Web Mapping Application by esri_canada_mapping\n",
       "                        <br/>Last Modified: February 26, 2015\n",
       "                        <br/>0 comments, 3,204 views\n",
       "                    </div>\n",
       "                </div>\n",
       "                "
      ],
      "text/plain": [
       "<Item title:\"Olympic Athletes Hometowns\" type:Web Mapping Application owner:esri_canada_mapping>"
      ]
     },
     "metadata": {},
     "output_type": "display_data"
    },
    {
     "data": {
      "text/html": [
       "<div class=\"item_container\" style=\"height: auto; overflow: hidden; border: 1px solid #cfcfcf; border-radius: 2px; background: #f6fafa; line-height: 1.21429em; padding: 10px;\">\n",
       "                    <div class=\"item_left\" style=\"width: 210px; float: left;\">\n",
       "                       <a href='https://www.arcgis.com/home/item.html?id=74091f6d06df454eaacccec4a89d812c' target='_blank'>\n",
       "                        <img src='https://www.arcgis.com/sharing/rest//content/items/74091f6d06df454eaacccec4a89d812c/info/thumbnail/DCWTS_Story_Map.jpg' class=\"itemThumbnail\">\n",
       "                       </a>\n",
       "                    </div>\n",
       "\n",
       "                    <div class=\"item_right\"     style=\"float: none; width: auto; overflow: hidden;\">\n",
       "                        <a href='https://www.arcgis.com/home/item.html?id=74091f6d06df454eaacccec4a89d812c' target='_blank'><b>Clark Regional Wastewater District DCWTS Construction Tour</b>\n",
       "                        </a>\n",
       "                        <br/><img src='https://www.arcgis.com/home/js/jsapi/esri/css/images/item_type_icons/layers16.png' style=\"vertical-align:middle;\">Web Mapping Application by TSEDLACEK\n",
       "                        <br/>Last Modified: May 15, 2017\n",
       "                        <br/>5 comments, 6,345 views\n",
       "                    </div>\n",
       "                </div>\n",
       "                "
      ],
      "text/plain": [
       "<Item title:\"Clark Regional Wastewater District DCWTS Construction Tour\" type:Web Mapping Application owner:TSEDLACEK>"
      ]
     },
     "metadata": {},
     "output_type": "display_data"
    }
   ],
   "source": [
    "from IPython.display import display\n",
    "\n",
    "for item in items:\n",
    "    display(item)"
   ]
  },
  {
   "cell_type": "markdown",
   "metadata": {},
   "source": [
    "The search looks for content within your organization by default. What if you want to search for public content on ArcGIS Online? What if you only want to return feature layers because you want to add one to your map? \n",
    "\n",
    "<ul style=\"list-style-type:circle\">\n",
    "    <li>Use the <a href=\"https://developers.arcgis.com/python/api-reference/arcgis.gis.toc.html?highlight=content%20get#arcgis.gis.ContentManager.search\">help</a> documentation to find a way to add two parameters to the <code>search()</code> function so that items that are public and of type <code>Feature layer</code> are searched.</li>\n",
    "    <br>\n",
    "    <li>Write your code below.</li>\n",
    "</ul>\n",
    "\n",
    "> ***Note:*** Instead of browsing the help documentation you can also use `gis.content.search?`."
   ]
  },
  {
   "cell_type": "code",
   "execution_count": 9,
   "metadata": {
    "scrolled": true
   },
   "outputs": [
    {
     "data": {
      "text/plain": [
       "[<Item title:\"Downtown Parking Tickets\" type:Feature Layer Collection owner:202020_alouie37>,\n",
       " <Item title:\"North_Vancouver_Buildings\" type:Feature Layer Collection owner:2017FT_rbrenner2>,\n",
       " <Item title:\"Water System Valves\" type:Feature Layer Collection owner:CityOfVancouverGISAdmin>,\n",
       " <Item title:\"Feature_XAPO\" type:Feature Layer Collection owner:mbuell>,\n",
       " <Item title:\"web_coalitions_oct17\" type:Feature Layer Collection owner:rmorris_pdxedu>,\n",
       " <Item title:\"ElvContours5m_shp\" type:Feature Layer Collection owner:geog351sp19_jdsong>,\n",
       " <Item title:\"Buffer of_vancouver_crime_2016_50m\" type:Feature Layer Collection owner:GEOG312_18SP>,\n",
       " <Item title:\"ZI_DO_site_survey\" type:Feature Layer Collection owner:NGKFPortland>,\n",
       " <Item title:\"Parcels\" type:Feature Layer Collection owner:behClevest>,\n",
       " <Item title:\"Voting 2011 Vancouver Map_WFL1\" type:Feature Layer Collection owner:202020_nhassan4>]"
      ]
     },
     "execution_count": 9,
     "metadata": {},
     "output_type": "execute_result"
    }
   ],
   "source": [
    "items = gis.content.search(city, outside_org=True, item_type='Feature Layer')\n",
    "items"
   ]
  },
  {
   "cell_type": "markdown",
   "metadata": {},
   "source": [
    "<ul style=\"list-style-type:circle\">\n",
    "    <li>Now write a loop to display the rich representation of each item.</li>\n",
    "</ul>"
   ]
  },
  {
   "cell_type": "code",
   "execution_count": 8,
   "metadata": {},
   "outputs": [
    {
     "data": {
      "text/html": [
       "<div class=\"item_container\" style=\"height: auto; overflow: hidden; border: 1px solid #cfcfcf; border-radius: 2px; background: #f6fafa; line-height: 1.21429em; padding: 10px;\">\n",
       "                    <div class=\"item_left\" style=\"width: 210px; float: left;\">\n",
       "                       <a href='https://www.arcgis.com/home/item.html?id=3cd81aea11e94890953f63d59dcf77fb' target='_blank'>\n",
       "                        <img src='https://www.arcgis.com/sharing/rest//content/items/3cd81aea11e94890953f63d59dcf77fb/info/thumbnail/thumbnail.png' class=\"itemThumbnail\">\n",
       "                       </a>\n",
       "                    </div>\n",
       "\n",
       "                    <div class=\"item_right\"     style=\"float: none; width: auto; overflow: hidden;\">\n",
       "                        <a href='https://www.arcgis.com/home/item.html?id=3cd81aea11e94890953f63d59dcf77fb' target='_blank'><b>Downtown Parking Tickets</b>\n",
       "                        </a>\n",
       "                        <br/>Downtown Vancouver streets symbolized based on number of parking infractions<img src='https://www.arcgis.com/home/js/jsapi/esri/css/images/item_type_icons/featureshosted16.png' style=\"vertical-align:middle;\">Feature Layer Collection by 202020_alouie37\n",
       "                        <br/>Last Modified: December 02, 2019\n",
       "                        <br/>0 comments, 26 views\n",
       "                    </div>\n",
       "                </div>\n",
       "                "
      ],
      "text/plain": [
       "<Item title:\"Downtown Parking Tickets\" type:Feature Layer Collection owner:202020_alouie37>"
      ]
     },
     "metadata": {},
     "output_type": "display_data"
    },
    {
     "data": {
      "text/html": [
       "<div class=\"item_container\" style=\"height: auto; overflow: hidden; border: 1px solid #cfcfcf; border-radius: 2px; background: #f6fafa; line-height: 1.21429em; padding: 10px;\">\n",
       "                    <div class=\"item_left\" style=\"width: 210px; float: left;\">\n",
       "                       <a href='https://www.arcgis.com/home/item.html?id=4661fa73f8d34bab977bd1aff73a1a05' target='_blank'>\n",
       "                        <img src='https://www.arcgis.com/sharing/rest//content/items/4661fa73f8d34bab977bd1aff73a1a05/info/thumbnail/ago_downloaded.png' class=\"itemThumbnail\">\n",
       "                       </a>\n",
       "                    </div>\n",
       "\n",
       "                    <div class=\"item_right\"     style=\"float: none; width: auto; overflow: hidden;\">\n",
       "                        <a href='https://www.arcgis.com/home/item.html?id=4661fa73f8d34bab977bd1aff73a1a05' target='_blank'><b>North_Vancouver_Buildings</b>\n",
       "                        </a>\n",
       "                        <br/><img src='https://www.arcgis.com/home/js/jsapi/esri/css/images/item_type_icons/featureshosted16.png' style=\"vertical-align:middle;\">Feature Layer Collection by 2017FT_rbrenner2\n",
       "                        <br/>Last Modified: January 30, 2018\n",
       "                        <br/>0 comments, 26 views\n",
       "                    </div>\n",
       "                </div>\n",
       "                "
      ],
      "text/plain": [
       "<Item title:\"North_Vancouver_Buildings\" type:Feature Layer Collection owner:2017FT_rbrenner2>"
      ]
     },
     "metadata": {},
     "output_type": "display_data"
    },
    {
     "data": {
      "text/html": [
       "<div class=\"item_container\" style=\"height: auto; overflow: hidden; border: 1px solid #cfcfcf; border-radius: 2px; background: #f6fafa; line-height: 1.21429em; padding: 10px;\">\n",
       "                    <div class=\"item_left\" style=\"width: 210px; float: left;\">\n",
       "                       <a href='https://www.arcgis.com/home/item.html?id=779349a09f794e51adce738ea9e87256' target='_blank'>\n",
       "                        <img src='https://www.arcgis.com/sharing/rest//content/items/779349a09f794e51adce738ea9e87256/info/thumbnail/ago_downloaded.gif' class=\"itemThumbnail\">\n",
       "                       </a>\n",
       "                    </div>\n",
       "\n",
       "                    <div class=\"item_right\"     style=\"float: none; width: auto; overflow: hidden;\">\n",
       "                        <a href='https://www.arcgis.com/home/item.html?id=779349a09f794e51adce738ea9e87256' target='_blank'><b>Water System Valves</b>\n",
       "                        </a>\n",
       "                        <br/><img src='https://www.arcgis.com/home/js/jsapi/esri/css/images/item_type_icons/featureshosted16.png' style=\"vertical-align:middle;\">Feature Layer Collection by CityOfVancouverGISAdmin\n",
       "                        <br/>Last Modified: April 22, 2019\n",
       "                        <br/>0 comments, 114 views\n",
       "                    </div>\n",
       "                </div>\n",
       "                "
      ],
      "text/plain": [
       "<Item title:\"Water System Valves\" type:Feature Layer Collection owner:CityOfVancouverGISAdmin>"
      ]
     },
     "metadata": {},
     "output_type": "display_data"
    },
    {
     "data": {
      "text/html": [
       "<div class=\"item_container\" style=\"height: auto; overflow: hidden; border: 1px solid #cfcfcf; border-radius: 2px; background: #f6fafa; line-height: 1.21429em; padding: 10px;\">\n",
       "                    <div class=\"item_left\" style=\"width: 210px; float: left;\">\n",
       "                       <a href='https://www.arcgis.com/home/item.html?id=376e4f631cc8421cbe65e60f01a5220e' target='_blank'>\n",
       "                        <img src='https://www.arcgis.com/sharing/rest//content/items/376e4f631cc8421cbe65e60f01a5220e/info/thumbnail/thumbnail.png' class=\"itemThumbnail\">\n",
       "                       </a>\n",
       "                    </div>\n",
       "\n",
       "                    <div class=\"item_right\"     style=\"float: none; width: auto; overflow: hidden;\">\n",
       "                        <a href='https://www.arcgis.com/home/item.html?id=376e4f631cc8421cbe65e60f01a5220e' target='_blank'><b>Feature_XAPO</b>\n",
       "                        </a>\n",
       "                        <br/>North_Van_XAPO<img src='https://www.arcgis.com/home/js/jsapi/esri/css/images/item_type_icons/featureshosted16.png' style=\"vertical-align:middle;\">Feature Layer Collection by mbuell\n",
       "                        <br/>Last Modified: April 19, 2016\n",
       "                        <br/>0 comments, 55 views\n",
       "                    </div>\n",
       "                </div>\n",
       "                "
      ],
      "text/plain": [
       "<Item title:\"Feature_XAPO\" type:Feature Layer Collection owner:mbuell>"
      ]
     },
     "metadata": {},
     "output_type": "display_data"
    },
    {
     "data": {
      "text/html": [
       "<div class=\"item_container\" style=\"height: auto; overflow: hidden; border: 1px solid #cfcfcf; border-radius: 2px; background: #f6fafa; line-height: 1.21429em; padding: 10px;\">\n",
       "                    <div class=\"item_left\" style=\"width: 210px; float: left;\">\n",
       "                       <a href='https://www.arcgis.com/home/item.html?id=b30142f469e946b3b9be2c14e6cdac92' target='_blank'>\n",
       "                        <img src='https://www.arcgis.com/sharing/rest//content/items/b30142f469e946b3b9be2c14e6cdac92/info/thumbnail/thumbnail.png' class=\"itemThumbnail\">\n",
       "                       </a>\n",
       "                    </div>\n",
       "\n",
       "                    <div class=\"item_right\"     style=\"float: none; width: auto; overflow: hidden;\">\n",
       "                        <a href='https://www.arcgis.com/home/item.html?id=b30142f469e946b3b9be2c14e6cdac92' target='_blank'><b>web_coalitions_oct17</b>\n",
       "                        </a>\n",
       "                        <br/>Portland-area Neighborhood Coalitions<img src='https://www.arcgis.com/home/js/jsapi/esri/css/images/item_type_icons/featureshosted16.png' style=\"vertical-align:middle;\">Feature Layer Collection by rmorris_pdxedu\n",
       "                        <br/>Last Modified: January 23, 2018\n",
       "                        <br/>0 comments, 72 views\n",
       "                    </div>\n",
       "                </div>\n",
       "                "
      ],
      "text/plain": [
       "<Item title:\"web_coalitions_oct17\" type:Feature Layer Collection owner:rmorris_pdxedu>"
      ]
     },
     "metadata": {},
     "output_type": "display_data"
    },
    {
     "data": {
      "text/html": [
       "<div class=\"item_container\" style=\"height: auto; overflow: hidden; border: 1px solid #cfcfcf; border-radius: 2px; background: #f6fafa; line-height: 1.21429em; padding: 10px;\">\n",
       "                    <div class=\"item_left\" style=\"width: 210px; float: left;\">\n",
       "                       <a href='https://www.arcgis.com/home/item.html?id=d3d5dcabf2404b9180bb29b5aeaee147' target='_blank'>\n",
       "                        <img src='https://www.arcgis.com/sharing/rest//content/items/d3d5dcabf2404b9180bb29b5aeaee147/info/thumbnail/ago_downloaded.gif' class=\"itemThumbnail\">\n",
       "                       </a>\n",
       "                    </div>\n",
       "\n",
       "                    <div class=\"item_right\"     style=\"float: none; width: auto; overflow: hidden;\">\n",
       "                        <a href='https://www.arcgis.com/home/item.html?id=d3d5dcabf2404b9180bb29b5aeaee147' target='_blank'><b>ElvContours5m_shp</b>\n",
       "                        </a>\n",
       "                        <br/><img src='https://www.arcgis.com/home/js/jsapi/esri/css/images/item_type_icons/featureshosted16.png' style=\"vertical-align:middle;\">Feature Layer Collection by geog351sp19_jdsong\n",
       "                        <br/>Last Modified: June 19, 2019\n",
       "                        <br/>0 comments, 35 views\n",
       "                    </div>\n",
       "                </div>\n",
       "                "
      ],
      "text/plain": [
       "<Item title:\"ElvContours5m_shp\" type:Feature Layer Collection owner:geog351sp19_jdsong>"
      ]
     },
     "metadata": {},
     "output_type": "display_data"
    },
    {
     "data": {
      "text/html": [
       "<div class=\"item_container\" style=\"height: auto; overflow: hidden; border: 1px solid #cfcfcf; border-radius: 2px; background: #f6fafa; line-height: 1.21429em; padding: 10px;\">\n",
       "                    <div class=\"item_left\" style=\"width: 210px; float: left;\">\n",
       "                       <a href='https://www.arcgis.com/home/item.html?id=facfc765fc634b189322a2de15932b7f' target='_blank'>\n",
       "                        <img src='https://www.arcgis.com/sharing/rest//content/items/facfc765fc634b189322a2de15932b7f/info/thumbnail/ago_downloaded.png' class=\"itemThumbnail\">\n",
       "                       </a>\n",
       "                    </div>\n",
       "\n",
       "                    <div class=\"item_right\"     style=\"float: none; width: auto; overflow: hidden;\">\n",
       "                        <a href='https://www.arcgis.com/home/item.html?id=facfc765fc634b189322a2de15932b7f' target='_blank'><b>Buffer of_vancouver_crime_2016_50m</b>\n",
       "                        </a>\n",
       "                        <br/>Feature layer generated from Buffer<img src='https://www.arcgis.com/home/js/jsapi/esri/css/images/item_type_icons/featureshosted16.png' style=\"vertical-align:middle;\">Feature Layer Collection by GEOG312_18SP\n",
       "                        <br/>Last Modified: June 06, 2018\n",
       "                        <br/>0 comments, 70 views\n",
       "                    </div>\n",
       "                </div>\n",
       "                "
      ],
      "text/plain": [
       "<Item title:\"Buffer of_vancouver_crime_2016_50m\" type:Feature Layer Collection owner:GEOG312_18SP>"
      ]
     },
     "metadata": {},
     "output_type": "display_data"
    },
    {
     "data": {
      "text/html": [
       "<div class=\"item_container\" style=\"height: auto; overflow: hidden; border: 1px solid #cfcfcf; border-radius: 2px; background: #f6fafa; line-height: 1.21429em; padding: 10px;\">\n",
       "                    <div class=\"item_left\" style=\"width: 210px; float: left;\">\n",
       "                       <a href='https://www.arcgis.com/home/item.html?id=fd3c722725444018a5d3537d1a2e6a58' target='_blank'>\n",
       "                        <img src='https://www.arcgis.com/sharing/rest//content/items/fd3c722725444018a5d3537d1a2e6a58/info/thumbnail/ago_downloaded.png' class=\"itemThumbnail\">\n",
       "                       </a>\n",
       "                    </div>\n",
       "\n",
       "                    <div class=\"item_right\"     style=\"float: none; width: auto; overflow: hidden;\">\n",
       "                        <a href='https://www.arcgis.com/home/item.html?id=fd3c722725444018a5d3537d1a2e6a58' target='_blank'><b>ZI_DO_site_survey</b>\n",
       "                        </a>\n",
       "                        <br/><img src='https://www.arcgis.com/home/js/jsapi/esri/css/images/item_type_icons/featureshosted16.png' style=\"vertical-align:middle;\">Feature Layer Collection by NGKFPortland\n",
       "                        <br/>Last Modified: April 02, 2020\n",
       "                        <br/>0 comments, 55 views\n",
       "                    </div>\n",
       "                </div>\n",
       "                "
      ],
      "text/plain": [
       "<Item title:\"ZI_DO_site_survey\" type:Feature Layer Collection owner:NGKFPortland>"
      ]
     },
     "metadata": {},
     "output_type": "display_data"
    },
    {
     "data": {
      "text/html": [
       "<div class=\"item_container\" style=\"height: auto; overflow: hidden; border: 1px solid #cfcfcf; border-radius: 2px; background: #f6fafa; line-height: 1.21429em; padding: 10px;\">\n",
       "                    <div class=\"item_left\" style=\"width: 210px; float: left;\">\n",
       "                       <a href='https://www.arcgis.com/home/item.html?id=961a56d51afa42df9ac88b8a7e01b13f' target='_blank'>\n",
       "                        <img src='https://www.arcgis.com/sharing/rest//content/items/961a56d51afa42df9ac88b8a7e01b13f/info/thumbnail/ago_downloaded.gif' class=\"itemThumbnail\">\n",
       "                       </a>\n",
       "                    </div>\n",
       "\n",
       "                    <div class=\"item_right\"     style=\"float: none; width: auto; overflow: hidden;\">\n",
       "                        <a href='https://www.arcgis.com/home/item.html?id=961a56d51afa42df9ac88b8a7e01b13f' target='_blank'><b>Parcels</b>\n",
       "                        </a>\n",
       "                        <br/><img src='https://www.arcgis.com/home/js/jsapi/esri/css/images/item_type_icons/featureshosted16.png' style=\"vertical-align:middle;\">Feature Layer Collection by behClevest\n",
       "                        <br/>Last Modified: May 11, 2018\n",
       "                        <br/>0 comments, 15 views\n",
       "                    </div>\n",
       "                </div>\n",
       "                "
      ],
      "text/plain": [
       "<Item title:\"Parcels\" type:Feature Layer Collection owner:behClevest>"
      ]
     },
     "metadata": {},
     "output_type": "display_data"
    },
    {
     "data": {
      "text/html": [
       "<div class=\"item_container\" style=\"height: auto; overflow: hidden; border: 1px solid #cfcfcf; border-radius: 2px; background: #f6fafa; line-height: 1.21429em; padding: 10px;\">\n",
       "                    <div class=\"item_left\" style=\"width: 210px; float: left;\">\n",
       "                       <a href='https://www.arcgis.com/home/item.html?id=cb26fc6c47fc45bf9fcf8170d16a5bc8' target='_blank'>\n",
       "                        <img src='https://www.arcgis.com/sharing/rest//content/items/cb26fc6c47fc45bf9fcf8170d16a5bc8/info/thumbnail/thumbnail.png' class=\"itemThumbnail\">\n",
       "                       </a>\n",
       "                    </div>\n",
       "\n",
       "                    <div class=\"item_right\"     style=\"float: none; width: auto; overflow: hidden;\">\n",
       "                        <a href='https://www.arcgis.com/home/item.html?id=cb26fc6c47fc45bf9fcf8170d16a5bc8' target='_blank'><b>Voting 2011 Vancouver Map_WFL1</b>\n",
       "                        </a>\n",
       "                        <br/>This is a map of the municipal election results<img src='https://www.arcgis.com/home/js/jsapi/esri/css/images/item_type_icons/featureshosted16.png' style=\"vertical-align:middle;\">Feature Layer Collection by 202020_nhassan4\n",
       "                        <br/>Last Modified: December 03, 2019\n",
       "                        <br/>0 comments, 52 views\n",
       "                    </div>\n",
       "                </div>\n",
       "                "
      ],
      "text/plain": [
       "<Item title:\"Voting 2011 Vancouver Map_WFL1\" type:Feature Layer Collection owner:202020_nhassan4>"
      ]
     },
     "metadata": {},
     "output_type": "display_data"
    }
   ],
   "source": [
    "for item in items:\n",
    "    display(item)"
   ]
  },
  {
   "cell_type": "markdown",
   "metadata": {},
   "source": [
    "We can then add the returned web layers to our map. To add a layer we call the `add_layer()` method and pass in the index position of the item we want returned in the items list.\n",
    "\n",
    "<ul style=\"list-style-type:circle\">\n",
    "    <li>Write the code to add one of the items into your map.</li>\n",
    "    <br>\n",
    "    <li>Type the name of your map variable to display the map.</li>\n",
    "</ul>"
   ]
  },
  {
   "cell_type": "code",
   "execution_count": null,
   "metadata": {},
   "outputs": [],
   "source": [
    "map1.add_layer(items[0])\n",
    "map1"
   ]
  },
  {
   "cell_type": "markdown",
   "metadata": {
    "collapsed": true
   },
   "source": [
    "The above cell updated the map widget. Furthermore, if you scroll to the top, you can notice in that map a new layer being rendered on the map. \n",
    "\n",
    "This is the end of the exercise."
   ]
  }
 ],
 "metadata": {
  "anaconda-cloud": {},
  "kernelspec": {
   "display_name": "Python 3",
   "language": "python",
   "name": "python3"
  },
  "language_info": {
   "codemirror_mode": {
    "name": "ipython",
    "version": 3
   },
   "file_extension": ".py",
   "mimetype": "text/x-python",
   "name": "python",
   "nbconvert_exporter": "python",
   "pygments_lexer": "ipython3",
   "version": "3.6.10"
  }
 },
 "nbformat": 4,
 "nbformat_minor": 1
}
